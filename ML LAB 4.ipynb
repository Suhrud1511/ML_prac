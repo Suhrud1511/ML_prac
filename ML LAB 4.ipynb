{
 "cells": [
  {
   "cell_type": "code",
   "execution_count": null,
   "metadata": {
    "id": "4z6jMvnW3Gp4"
   },
   "outputs": [],
   "source": [
    "import pandas as pd\n",
    "import numpy as np\n"
   ]
  },
  {
   "cell_type": "code",
   "execution_count": null,
   "metadata": {
    "id": "KykMqEWX97y1"
   },
   "outputs": [],
   "source": [
    "from sklearn import model_selection\n",
    "from sklearn.tree import DecisionTreeClassifier\n",
    "from sklearn.metrics import accuracy_score\n",
    "from sklearn.model_selection import train_test_split\n",
    "cols=['pregnant','glucose','bp','skin','insulin','bmi','pedigree','age','label']\n",
    "#load dataset\n",
    "pima=pd.read_csv(\"pima-indians-diabetes.csv\",header=None,names=cols)\n",
    "feature_cols=['pregnant','glucose','bp','insulin','bmi','pedigree','age']\n",
    "X=pima[feature_cols] #features\n",
    "Y=pima.label #target\n"
   ]
  },
  {
   "cell_type": "code",
   "execution_count": null,
   "metadata": {
    "colab": {
     "base_uri": "https://localhost:8080/"
    },
    "id": "LaN27Elk-j3t",
    "outputId": "bf5b2aea-5915-4cb0-8472-d528b843339c"
   },
   "outputs": [
    {
     "data": {
      "text/plain": [
       "0.7253798489092607"
      ]
     },
     "execution_count": 28,
     "metadata": {},
     "output_type": "execute_result"
    }
   ],
   "source": [
    "regressor=DecisionTreeClassifier()\n",
    "x_train, x_test, y_train, y_test = train_test_split(X, Y, test_size=0.25, random_state=0)\n",
    "regressor.fit(x_train,y_train)\n",
    "from sklearn.model_selection import cross_val_score\n",
    "acc=cross_val_score(estimator=regressor,X=X,y=Y,cv=5)\n",
    "acc.mean()"
   ]
  },
  {
   "cell_type": "code",
   "execution_count": null,
   "metadata": {
    "colab": {
     "base_uri": "https://localhost:8080/"
    },
    "id": "e0pM-I0Y_KFz",
    "outputId": "9857dd32-4f00-4886-d2df-0bb3d559fddd"
   },
   "outputs": [
    {
     "data": {
      "text/plain": [
       "0.7656311009252186"
      ]
     },
     "execution_count": 29,
     "metadata": {},
     "output_type": "execute_result"
    }
   ],
   "source": [
    "from sklearn.svm import SVC\n",
    "svc=SVC(kernel=\"poly\")\n",
    "model=svc.fit(x_train,y_train)\n",
    "acc=cross_val_score(estimator=model,X=X,y=Y,cv=5)\n",
    "acc.mean()"
   ]
  }
 ],
 "metadata": {
  "colab": {
   "provenance": []
  },
  "kernelspec": {
   "display_name": "Python 3 (ipykernel)",
   "language": "python",
   "name": "python3"
  },
  "language_info": {
   "codemirror_mode": {
    "name": "ipython",
    "version": 3
   },
   "file_extension": ".py",
   "mimetype": "text/x-python",
   "name": "python",
   "nbconvert_exporter": "python",
   "pygments_lexer": "ipython3",
   "version": "3.11.4"
  }
 },
 "nbformat": 4,
 "nbformat_minor": 1
}
