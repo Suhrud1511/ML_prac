{
 "cells": [
  {
   "cell_type": "code",
   "execution_count": 13,
   "id": "baf72d4d",
   "metadata": {},
   "outputs": [],
   "source": [
    "#bagging "
   ]
  },
  {
   "cell_type": "code",
   "execution_count": 54,
   "id": "4fcec2f4",
   "metadata": {},
   "outputs": [],
   "source": [
    "import pandas as pd\n",
    "from sklearn import model_selection\n",
    "from sklearn.tree import DecisionTreeClassifier\n",
    "from sklearn.neighbors import KNeighborsClassifier\n",
    "from sklearn.svm import SVC\n",
    "from sklearn.metrics import cohen_kappa_score\n",
    "from sklearn.metrics import accuracy_score\n",
    "from sklearn.ensemble import AdaBoostClassifier\n",
    "from sklearn import metrics\n",
    "from sklearn.ensemble import VotingClassifier #bagging\n"
   ]
  },
  {
   "cell_type": "code",
   "execution_count": 55,
   "id": "caaa1f52",
   "metadata": {},
   "outputs": [],
   "source": [
    "col_name=['pregnant','glucose','bp','skin','insulin','bmi','pedigree','age','label']"
   ]
  },
  {
   "cell_type": "code",
   "execution_count": 56,
   "id": "4e4cf8de",
   "metadata": {},
   "outputs": [],
   "source": [
    "pima=pd.read_csv(\"pima-indians-diabetes.csv\",header=None,names=col_name)"
   ]
  },
  {
   "cell_type": "code",
   "execution_count": 57,
   "id": "f94384a6",
   "metadata": {},
   "outputs": [],
   "source": [
    "feature_cols=['pregnant','insulin','bmi','age','glucose','bp','pedigree']"
   ]
  },
  {
   "cell_type": "code",
   "execution_count": 58,
   "id": "19923616",
   "metadata": {},
   "outputs": [],
   "source": [
    "X=pima[feature_cols]\n",
    "Y=pima.label"
   ]
  },
  {
   "cell_type": "code",
   "execution_count": 59,
   "id": "dff12b37",
   "metadata": {},
   "outputs": [
    {
     "data": {
      "text/plain": [
       "0.8606770833333334"
      ]
     },
     "execution_count": 59,
     "metadata": {},
     "output_type": "execute_result"
    }
   ],
   "source": [
    "estimators=[]\n",
    "model1=KNeighborsClassifier(n_neighbors=5)\n",
    "estimators.append(('KNN',model1))\n",
    "model2=DecisionTreeClassifier()\n",
    "estimators.append(('cart',model2))\n",
    "model3=SVC()\n",
    "estimators.append(('svm',model3))\n",
    "#create ensemble\n",
    "ensemble=VotingClassifier(estimators)#bagging ensemble\n",
    "eclf1=ensemble.fit(X,Y)\n",
    "y1=eclf1.predict(X)\n",
    "accuracy_score(Y,y1)\n",
    "\n"
   ]
  },
  {
   "cell_type": "code",
   "execution_count": 60,
   "id": "16ca499d",
   "metadata": {},
   "outputs": [
    {
     "data": {
      "text/plain": [
       "0.8971354166666666"
      ]
     },
     "execution_count": 60,
     "metadata": {},
     "output_type": "execute_result"
    }
   ],
   "source": [
    "estimators=[]\n",
    "model1=KNeighborsClassifier(n_neighbors=3)\n",
    "estimators.append(('KNN',model1))\n",
    "model2=DecisionTreeClassifier()\n",
    "estimators.append(('cart',model2))\n",
    "model3=SVC()\n",
    "estimators.append(('svm',model3))\n",
    "#create ensemble\n",
    "ensemble=VotingClassifier(estimators)#bagging ensemble\n",
    "eclf1=ensemble.fit(X,Y)\n",
    "y1=eclf1.predict(X)\n",
    "accuracy_score(Y,y1)\n"
   ]
  },
  {
   "cell_type": "code",
   "execution_count": 61,
   "id": "54af6ec2",
   "metadata": {},
   "outputs": [],
   "source": [
    "#AdaBoost Classifier"
   ]
  },
  {
   "cell_type": "code",
   "execution_count": 62,
   "id": "f7ce43d8",
   "metadata": {},
   "outputs": [
    {
     "name": "stdout",
     "output_type": "stream",
     "text": [
      "0.7617908407382092\n"
     ]
    }
   ],
   "source": [
    "num_trees=50\n",
    "kfold=model_selection.KFold(n_splits=10)\n",
    "model=AdaBoostClassifier(n_estimators=num_trees)\n",
    "results=model_selection.cross_val_score(model,X,Y,cv=kfold)\n",
    "print(results.mean())\n"
   ]
  },
  {
   "cell_type": "code",
   "execution_count": 63,
   "id": "9409ee68",
   "metadata": {},
   "outputs": [
    {
     "name": "stdout",
     "output_type": "stream",
     "text": [
      "0.7486979166666666\n"
     ]
    }
   ],
   "source": [
    "num_trees=25\n",
    "kfold=model_selection.KFold(n_splits=6)\n",
    "model=AdaBoostClassifier(n_estimators=num_trees)\n",
    "results=model_selection.cross_val_score(model,X,Y,cv=kfold)\n",
    "print(results.mean())\n"
   ]
  },
  {
   "cell_type": "code",
   "execution_count": 76,
   "id": "a61ef7a5",
   "metadata": {},
   "outputs": [
    {
     "name": "stderr",
     "output_type": "stream",
     "text": [
      "C:\\Users\\nehaa\\AppData\\Roaming\\Python\\Python311\\site-packages\\sklearn\\ensemble\\_base.py:156: FutureWarning: `base_estimator` was renamed to `estimator` in version 1.2 and will be removed in 1.4.\n",
      "  warnings.warn(\n"
     ]
    },
    {
     "name": "stdout",
     "output_type": "stream",
     "text": [
      "accuracy: 0.6510416666666666\n"
     ]
    }
   ],
   "source": [
    "svc=SVC(probability=True, kernel='linear')\n",
    "#creating adabosst classifier\n",
    "abc=AdaBoostClassifier(n_estimators=25,base_estimator=svc)\n",
    "model=abc.fit(X,Y)\n",
    "y_pred=model.predict(X)\n",
    "print (\"accuracy:\",metrics.accuracy_score(Y,y_pred))"
   ]
  },
  {
   "cell_type": "code",
   "execution_count": null,
   "id": "31dd2f4e",
   "metadata": {},
   "outputs": [],
   "source": []
  }
 ],
 "metadata": {
  "kernelspec": {
   "display_name": "Python 3 (ipykernel)",
   "language": "python",
   "name": "python3"
  },
  "language_info": {
   "codemirror_mode": {
    "name": "ipython",
    "version": 3
   },
   "file_extension": ".py",
   "mimetype": "text/x-python",
   "name": "python",
   "nbconvert_exporter": "python",
   "pygments_lexer": "ipython3",
   "version": "3.11.4"
  }
 },
 "nbformat": 4,
 "nbformat_minor": 5
}
